{
 "cells": [
  {
   "cell_type": "code",
   "execution_count": 34,
   "id": "abb2dd85-da5f-4b74-b804-3d79b5cf19cb",
   "metadata": {},
   "outputs": [],
   "source": [
    "import pandas as pd\n",
    "import numpy as np\n",
    "import re\n",
    "from sklearn.preprocessing import MinMaxScaler\n",
    "import logging\n"
   ]
  },
  {
   "cell_type": "code",
   "execution_count": 36,
   "id": "3f8eafc3-273e-444e-a251-81d3fc260cde",
   "metadata": {},
   "outputs": [
    {
     "name": "stderr",
     "output_type": "stream",
     "text": [
      "INFO:root:Dataset loaded successfully.\n"
     ]
    },
    {
     "data": {
      "text/html": [
       "<div>\n",
       "<style scoped>\n",
       "    .dataframe tbody tr th:only-of-type {\n",
       "        vertical-align: middle;\n",
       "    }\n",
       "\n",
       "    .dataframe tbody tr th {\n",
       "        vertical-align: top;\n",
       "    }\n",
       "\n",
       "    .dataframe thead th {\n",
       "        text-align: right;\n",
       "    }\n",
       "</style>\n",
       "<table border=\"1\" class=\"dataframe\">\n",
       "  <thead>\n",
       "    <tr style=\"text-align: right;\">\n",
       "      <th></th>\n",
       "      <th>Date Added</th>\n",
       "      <th>category</th>\n",
       "      <th>sellerlink</th>\n",
       "      <th>sellerlink-url</th>\n",
       "      <th>sellerstorefront-url</th>\n",
       "      <th>sellerproductcount</th>\n",
       "      <th>sellerratings</th>\n",
       "      <th>sellerdetails</th>\n",
       "      <th>seller business name</th>\n",
       "      <th>businessaddress</th>\n",
       "      <th>Count of seller brands</th>\n",
       "      <th>Max % of negative seller ratings - last 30 days</th>\n",
       "      <th>Max % of negative seller ratings - last 90 days</th>\n",
       "      <th>Max % of negative seller ratings - last 12 months</th>\n",
       "      <th>Hero Product 1 #ratings</th>\n",
       "      <th>Hero Product 2 #ratings</th>\n",
       "      <th>Sample brand name</th>\n",
       "      <th>Sample Brand URL</th>\n",
       "    </tr>\n",
       "  </thead>\n",
       "  <tbody>\n",
       "    <tr>\n",
       "      <th>0</th>\n",
       "      <td>2020-11-15</td>\n",
       "      <td>Garden</td>\n",
       "      <td>Seller 1</td>\n",
       "      <td>Seller 1-link</td>\n",
       "      <td>Seller 1-storefrontlink</td>\n",
       "      <td>1-16 of over 100,000 results</td>\n",
       "      <td>88% positive in the last 12 months (118 ratings)</td>\n",
       "      <td>Lohas Living Inc James Mazzello US 845 3RD Ave...</td>\n",
       "      <td>Business Name:Lohas Living Inc</td>\n",
       "      <td>411 THEODORE FREMD AVESTE 206 SOUTHRyeNY10580-...</td>\n",
       "      <td>16</td>\n",
       "      <td>17</td>\n",
       "      <td>11</td>\n",
       "      <td>12</td>\n",
       "      <td>5873</td>\n",
       "      <td>4957</td>\n",
       "      <td>Visit the YAMAZAKI Store</td>\n",
       "      <td>https://www.amazon.de/-/en/stores/YAMAZAKI/pag...</td>\n",
       "    </tr>\n",
       "    <tr>\n",
       "      <th>1</th>\n",
       "      <td>2020-11-15</td>\n",
       "      <td>Garden</td>\n",
       "      <td>Seller 2</td>\n",
       "      <td>Seller 2-link</td>\n",
       "      <td>Seller 2-storefrontlink</td>\n",
       "      <td>NaN</td>\n",
       "      <td>90% positive in the last 12 months (566 ratings)</td>\n",
       "      <td>Herzlich Willkommen im Amazon Shop von 1a-Hand...</td>\n",
       "      <td>Business Name:1a-Handelsagentur</td>\n",
       "      <td>1a HandelsagenturLindenallee 2MalchowMecklenbu...</td>\n",
       "      <td>0</td>\n",
       "      <td>2</td>\n",
       "      <td>2</td>\n",
       "      <td>9</td>\n",
       "      <td>0</td>\n",
       "      <td>0</td>\n",
       "      <td>Visit the tesa Store</td>\n",
       "      <td>https://www.amazon.de/-/en/stores/tesa/page/12...</td>\n",
       "    </tr>\n",
       "    <tr>\n",
       "      <th>2</th>\n",
       "      <td>2020-11-15</td>\n",
       "      <td>Garden</td>\n",
       "      <td>Seller 3</td>\n",
       "      <td>Seller 3-link</td>\n",
       "      <td>Seller 3-storefrontlink</td>\n",
       "      <td>1-16 of over 2,000 results</td>\n",
       "      <td>85% positive in the last 12 months (75 ratings)</td>\n",
       "      <td>67878u6i7 is committed to providing each custo...</td>\n",
       "      <td>Business Name:nantongaohuanfangzhipinyouxiango...</td>\n",
       "      <td>zhongnanshijicheng27zhuang1410haochongchuanqun...</td>\n",
       "      <td>15</td>\n",
       "      <td>0</td>\n",
       "      <td>25</td>\n",
       "      <td>12</td>\n",
       "      <td>164</td>\n",
       "      <td>162</td>\n",
       "      <td>TXYFYP</td>\n",
       "      <td>https://www.amazon.de/-/en/s/ref=bl_dp_s_web_0...</td>\n",
       "    </tr>\n",
       "    <tr>\n",
       "      <th>3</th>\n",
       "      <td>2020-11-15</td>\n",
       "      <td>Garden</td>\n",
       "      <td>Seller 4</td>\n",
       "      <td>Seller 4-link</td>\n",
       "      <td>Seller 4-storefrontlink</td>\n",
       "      <td>1-16 of 123 results</td>\n",
       "      <td>NaN</td>\n",
       "      <td>7 days home life supermarket is committed to p...</td>\n",
       "      <td>Business Name:Zhengzhou Yaoqiong Trading Company</td>\n",
       "      <td>河南省中兴南路福禄街自贸试验区郑州片区（郑东）河南商会大厦1901室450000CN</td>\n",
       "      <td>1</td>\n",
       "      <td>0</td>\n",
       "      <td>0</td>\n",
       "      <td>0</td>\n",
       "      <td>0</td>\n",
       "      <td>0</td>\n",
       "      <td>SHIFENG</td>\n",
       "      <td>https://www.amazon.de/-/en/s/ref=bl_dp_s_web_0...</td>\n",
       "    </tr>\n",
       "    <tr>\n",
       "      <th>4</th>\n",
       "      <td>2020-11-15</td>\n",
       "      <td>Garden</td>\n",
       "      <td>Seller 5</td>\n",
       "      <td>Seller 5-link</td>\n",
       "      <td>Seller 5-storefrontlink</td>\n",
       "      <td>1-16 of over 1,000 results</td>\n",
       "      <td>81% positive in the last 12 months (52 ratings)</td>\n",
       "      <td>78 68yui678 is committed to providing each cus...</td>\n",
       "      <td>Business Name:shenzhenfeichangshangmeimaoyiyou...</td>\n",
       "      <td>minzhidadaoshaxialaocun94dongA901longhuaxinqus...</td>\n",
       "      <td>16</td>\n",
       "      <td>0</td>\n",
       "      <td>31</td>\n",
       "      <td>15</td>\n",
       "      <td>224</td>\n",
       "      <td>113</td>\n",
       "      <td>YUOKI99</td>\n",
       "      <td>https://www.amazon.de/-/en/s/ref=bl_dp_s_web_0...</td>\n",
       "    </tr>\n",
       "  </tbody>\n",
       "</table>\n",
       "</div>"
      ],
      "text/plain": [
       "  Date Added category sellerlink sellerlink-url     sellerstorefront-url  \\\n",
       "0 2020-11-15   Garden   Seller 1  Seller 1-link  Seller 1-storefrontlink   \n",
       "1 2020-11-15   Garden   Seller 2  Seller 2-link  Seller 2-storefrontlink   \n",
       "2 2020-11-15   Garden   Seller 3  Seller 3-link  Seller 3-storefrontlink   \n",
       "3 2020-11-15   Garden   Seller 4  Seller 4-link  Seller 4-storefrontlink   \n",
       "4 2020-11-15   Garden   Seller 5  Seller 5-link  Seller 5-storefrontlink   \n",
       "\n",
       "             sellerproductcount  \\\n",
       "0  1-16 of over 100,000 results   \n",
       "1                           NaN   \n",
       "2    1-16 of over 2,000 results   \n",
       "3           1-16 of 123 results   \n",
       "4    1-16 of over 1,000 results   \n",
       "\n",
       "                                      sellerratings  \\\n",
       "0  88% positive in the last 12 months (118 ratings)   \n",
       "1  90% positive in the last 12 months (566 ratings)   \n",
       "2   85% positive in the last 12 months (75 ratings)   \n",
       "3                                               NaN   \n",
       "4   81% positive in the last 12 months (52 ratings)   \n",
       "\n",
       "                                       sellerdetails  \\\n",
       "0  Lohas Living Inc James Mazzello US 845 3RD Ave...   \n",
       "1  Herzlich Willkommen im Amazon Shop von 1a-Hand...   \n",
       "2  67878u6i7 is committed to providing each custo...   \n",
       "3  7 days home life supermarket is committed to p...   \n",
       "4  78 68yui678 is committed to providing each cus...   \n",
       "\n",
       "                                seller business name  \\\n",
       "0                     Business Name:Lohas Living Inc   \n",
       "1                    Business Name:1a-Handelsagentur   \n",
       "2  Business Name:nantongaohuanfangzhipinyouxiango...   \n",
       "3   Business Name:Zhengzhou Yaoqiong Trading Company   \n",
       "4  Business Name:shenzhenfeichangshangmeimaoyiyou...   \n",
       "\n",
       "                                     businessaddress  Count of seller brands  \\\n",
       "0  411 THEODORE FREMD AVESTE 206 SOUTHRyeNY10580-...                      16   \n",
       "1  1a HandelsagenturLindenallee 2MalchowMecklenbu...                       0   \n",
       "2  zhongnanshijicheng27zhuang1410haochongchuanqun...                      15   \n",
       "3         河南省中兴南路福禄街自贸试验区郑州片区（郑东）河南商会大厦1901室450000CN                       1   \n",
       "4  minzhidadaoshaxialaocun94dongA901longhuaxinqus...                      16   \n",
       "\n",
       "   Max % of negative seller ratings - last 30 days  \\\n",
       "0                                               17   \n",
       "1                                                2   \n",
       "2                                                0   \n",
       "3                                                0   \n",
       "4                                                0   \n",
       "\n",
       "   Max % of negative seller ratings - last 90 days  \\\n",
       "0                                               11   \n",
       "1                                                2   \n",
       "2                                               25   \n",
       "3                                                0   \n",
       "4                                               31   \n",
       "\n",
       "   Max % of negative seller ratings - last 12 months  Hero Product 1 #ratings  \\\n",
       "0                                                 12                     5873   \n",
       "1                                                  9                        0   \n",
       "2                                                 12                      164   \n",
       "3                                                  0                        0   \n",
       "4                                                 15                      224   \n",
       "\n",
       "   Hero Product 2 #ratings         Sample brand name  \\\n",
       "0                     4957  Visit the YAMAZAKI Store   \n",
       "1                        0      Visit the tesa Store   \n",
       "2                      162                    TXYFYP   \n",
       "3                        0                   SHIFENG   \n",
       "4                      113                   YUOKI99   \n",
       "\n",
       "                                    Sample Brand URL  \n",
       "0  https://www.amazon.de/-/en/stores/YAMAZAKI/pag...  \n",
       "1  https://www.amazon.de/-/en/stores/tesa/page/12...  \n",
       "2  https://www.amazon.de/-/en/s/ref=bl_dp_s_web_0...  \n",
       "3  https://www.amazon.de/-/en/s/ref=bl_dp_s_web_0...  \n",
       "4  https://www.amazon.de/-/en/s/ref=bl_dp_s_web_0...  "
      ]
     },
     "execution_count": 36,
     "metadata": {},
     "output_type": "execute_result"
    }
   ],
   "source": [
    "# Set up logging\n",
    "logging.basicConfig(level=logging.INFO)\n",
    "\n",
    "# Load the dataset (replace 'Sample_Longlist_Data.xlsx' with the actual filename)\n",
    "try:\n",
    "    df = pd.read_excel('Sample_Longlist_Data.xlsx')\n",
    "    logging.info(\"Dataset loaded successfully.\")\n",
    "except FileNotFoundError:\n",
    "    logging.error(\"File not found. Please check the file name and path.\")\n",
    "    raise\n",
    "\n",
    "# Verify that necessary columns exist in the dataset\n",
    "required_columns = [\n",
    "    'sellerproductcount', 'sellerratings', 'sellerdetails', \n",
    "    'businessaddress', 'Hero Product 1 #ratings', 'Hero Product 2 #ratings'\n",
    "]\n",
    "missing_cols = [col for col in required_columns if col not in df.columns]\n",
    "if missing_cols:\n",
    "    logging.error(f\"Missing columns in dataset: {missing_cols}\")\n",
    "    raise Exception(f\"Missing columns in dataset: {missing_cols}\")\n",
    "\n",
    "# Display first few rows\n",
    "df.head()\n"
   ]
  },
  {
   "cell_type": "code",
   "execution_count": 38,
   "id": "e86f55eb-07c1-416b-ae7a-01be66244308",
   "metadata": {},
   "outputs": [],
   "source": [
    "# 1. Parse product_count from 'sellerproductcount'\n",
    "df['product_count'] = (\n",
    "    df['sellerproductcount']\n",
    "    .str.extract(r'over ([\\d,]+)', flags=re.IGNORECASE)  # Extract the numeric part after \"over\"\n",
    "    .replace(',', '', regex=True)                       # Remove commas\n",
    "    .astype(float)                                      # Convert to float\n",
    "    .fillna(0)                                          # Fill missing values with 0\n",
    ")\n"
   ]
  },
  {
   "cell_type": "code",
   "execution_count": 40,
   "id": "7cb6ae86-1460-448e-899e-2f46134c69fe",
   "metadata": {},
   "outputs": [],
   "source": [
    "# 2. Extract positive_percentage and rating_count from 'sellerratings'\n",
    "df['positive_percentage'] = (\n",
    "    df['sellerratings']\n",
    "    .str.extract(r'(\\d+)%')   # Extract percentage\n",
    "    .astype(float)\n",
    "    .fillna(0)\n",
    ")\n",
    "df['rating_count'] = (\n",
    "    df['sellerratings']\n",
    "    .str.extract(r'(\\d+) ratings')  # Extract the number before \"ratings\"\n",
    "    .astype(float)\n",
    "    .fillna(0)\n",
    ")"
   ]
  },
  {
   "cell_type": "code",
   "execution_count": 42,
   "id": "56d75a09-c7f8-4aac-bbcb-31e3c87ddca8",
   "metadata": {},
   "outputs": [],
   "source": [
    "# 3. Extract phone and email from 'sellerdetails'\n",
    "phone_pattern = r'(\\+?\\d{1,3}[-.\\s]?\\(?\\d{3}\\)?[-.\\s]?\\d{3}[-.\\s]?\\d{4})'\n",
    "email_pattern = r'([a-zA-Z0-9_.+-]+@[a-zA-Z0-9-]+\\.[a-zA-Z0-9-.]+)'\n",
    "\n",
    "# Convert sellerdetails to string to handle NaN safely\n",
    "df['sellerdetails'] = df['sellerdetails'].astype(str)\n",
    "\n",
    "df['phone'] = (\n",
    "    df['sellerdetails']\n",
    "    .str.findall(phone_pattern)\n",
    "    .apply(lambda x: x[0] if len(x) > 0 else np.nan)\n",
    ")\n",
    "df['email'] = (\n",
    "    df['sellerdetails']\n",
    "    .str.findall(email_pattern)\n",
    "    .apply(lambda x: x[0] if len(x) > 0 else np.nan)\n",
    ")"
   ]
  },
  {
   "cell_type": "code",
   "execution_count": 44,
   "id": "ab927aad-8f13-4720-a395-3fc38c26b052",
   "metadata": {},
   "outputs": [],
   "source": [
    "# 4. Extract country from 'businessaddress' and filter out Chinese sellers (CN)\n",
    "df['country'] = (\n",
    "    df['businessaddress']\n",
    "    .str.extract(r'\\b(US|DE|CN)\\b', flags=re.IGNORECASE)[0]  # Extract country code\n",
    "    .str.upper()  # Convert to uppercase (US, DE, CN)\n",
    ")\n"
   ]
  },
  {
   "cell_type": "code",
   "execution_count": 46,
   "id": "20091ebc-165e-493e-8d1f-c1f7780c8eb0",
   "metadata": {},
   "outputs": [
    {
     "name": "stderr",
     "output_type": "stream",
     "text": [
      "INFO:root:Dropped rows with missing country codes.\n"
     ]
    }
   ],
   "source": [
    "# Remove rows with missing country codes \n",
    "df = df.dropna(subset=['country'])\n",
    "logging.info(\"Dropped rows with missing country codes.\")"
   ]
  },
  {
   "cell_type": "code",
   "execution_count": 48,
   "id": "51604945-67ae-4f88-90ad-67eac390f4b1",
   "metadata": {},
   "outputs": [
    {
     "name": "stderr",
     "output_type": "stream",
     "text": [
      "INFO:root:Excluded Chinese sellers.\n"
     ]
    }
   ],
   "source": [
    "# Exclude Chinese sellers\n",
    "df = df[df['country'] != 'CN']\n",
    "logging.info(\"Excluded Chinese sellers.\")"
   ]
  },
  {
   "cell_type": "code",
   "execution_count": 50,
   "id": "dbd3e4c6-c43b-4921-a8f4-3774c63c58dc",
   "metadata": {},
   "outputs": [],
   "source": [
    "# 5. Sanitize Hero Product ratings\n",
    "for col in ['Hero Product 1 #ratings', 'Hero Product 2 #ratings']:\n",
    "    df[col] = pd.to_numeric(df[col], errors='coerce').fillna(0)\n",
    "df['hero_ratings'] = df['Hero Product 1 #ratings'] + df['Hero Product 2 #ratings']\n"
   ]
  },
  {
   "cell_type": "code",
   "execution_count": 52,
   "id": "e01eb31f-892a-4012-a018-07706d393773",
   "metadata": {},
   "outputs": [],
   "source": [
    "# 6. Calculate a binary indicator for contact availability\n",
    "df['has_contact'] = np.where(\n",
    "    df['phone'].notna() | df['email'].notna(), 1, 0\n",
    ")\n"
   ]
  },
  {
   "cell_type": "code",
   "execution_count": 54,
   "id": "9ff6d7ef-60aa-4a15-9079-cb7e423b9c15",
   "metadata": {},
   "outputs": [],
   "source": [
    "# 7. Normalize key metrics using MinMaxScaler\n",
    "metrics = ['product_count', 'positive_percentage', 'rating_count', 'hero_ratings', 'has_contact']\n",
    "scaler = MinMaxScaler()\n",
    "df[metrics] = scaler.fit_transform(df[metrics])"
   ]
  },
  {
   "cell_type": "code",
   "execution_count": 56,
   "id": "19f1c5a2-b51f-49cc-8304-653dfcd71409",
   "metadata": {},
   "outputs": [],
   "source": [
    "# 8. Assign weights and calculate total score for each seller\n",
    "weights = {\n",
    "    'product_count': 0.3,\n",
    "    'positive_percentage': 0.25,\n",
    "    'rating_count': 0.2,\n",
    "    'hero_ratings': 0.2,\n",
    "    'has_contact': 0.05\n",
    "}\n",
    "df['score'] = (\n",
    "    df['product_count'] * weights['product_count'] +\n",
    "    df['positive_percentage'] * weights['positive_percentage'] +\n",
    "    df['rating_count'] * weights['rating_count'] +\n",
    "    df['hero_ratings'] * weights['hero_ratings'] +\n",
    "    df['has_contact'] * weights['has_contact']\n",
    ")"
   ]
  },
  {
   "cell_type": "code",
   "execution_count": 58,
   "id": "c6b8de8f-ccd5-4c4b-8185-523de279a667",
   "metadata": {},
   "outputs": [],
   "source": [
    "# 9. Rank sellers by score and select the top 20\n",
    "top_sellers = df.sort_values('score', ascending=False).head(20)"
   ]
  },
  {
   "cell_type": "code",
   "execution_count": 60,
   "id": "d313ff10-c59a-4f17-abf7-0e2874069626",
   "metadata": {},
   "outputs": [
    {
     "name": "stdout",
     "output_type": "stream",
     "text": [
      "      product_count  positive_percentage  rating_count  hero_ratings  \\\n",
      "780        1.000000                 0.90      0.000000      0.378698   \n",
      "886        0.500000                 0.82      0.000000      1.000000   \n",
      "889        0.000000                 0.86      1.000000      0.000000   \n",
      "418        0.000000                 0.82      0.758621      0.000395   \n",
      "601        0.166667                 0.90      0.000000      0.110389   \n",
      "1767       0.000000                 1.00      0.000000      0.144400   \n",
      "499        0.166667                 0.60      0.000000      0.060237   \n",
      "825        0.000000                 0.00      0.000000      0.003436   \n",
      "\n",
      "      has_contact country          phone                      email     score  \n",
      "780           0.0      DE            NaN                        NaN  0.600740  \n",
      "886           0.0      DE            NaN                        NaN  0.555000  \n",
      "889           0.0      DE            NaN                        NaN  0.415000  \n",
      "418           1.0      DE  03222 1091111  info@planzkuebelonline.de  0.406803  \n",
      "601           0.0      DE            NaN                        NaN  0.297078  \n",
      "1767          0.0      DE            NaN                        NaN  0.278880  \n",
      "499           0.0      DE            NaN                        NaN  0.212047  \n",
      "825           0.0      DE            NaN                        NaN  0.000687  \n"
     ]
    }
   ],
   "source": [
    "# 10. Output relevant columns\n",
    "result = top_sellers[[ \n",
    "    'product_count', 'positive_percentage', 'rating_count', \n",
    "    'hero_ratings', 'has_contact', 'country', 'phone', 'email', 'score'\n",
    "]]\n",
    "\n",
    "# Display the top 10 results for a quick preview\n",
    "print(result.head(10))"
   ]
  },
  {
   "cell_type": "markdown",
   "id": "71c6332b-8d76-409d-81c3-5d737a7c0209",
   "metadata": {},
   "source": [
    "# Distribution of Scores Across All Sellers"
   ]
  },
  {
   "cell_type": "code",
   "execution_count": 69,
   "id": "c2c5b136-4164-4130-9496-e2409d260998",
   "metadata": {},
   "outputs": [
    {
     "data": {
      "image/png": "[encoded data removed]",
      "text/plain": [
       "<Figure size 1000x600 with 1 Axes>"
      ]
     },
     "metadata": {},
     "output_type": "display_data"
    }
   ],
   "source": [
    "plt.figure(figsize=(10, 6))\n",
    "sns.histplot(df['score'], bins=20, kde=True, color='steelblue')\n",
    "plt.title('Distribution of Seller Scores')\n",
    "plt.xlabel('Score')\n",
    "plt.ylabel('Frequency')\n",
    "plt.show()\n"
   ]
  },
  {
   "cell_type": "markdown",
   "id": "7f852ed6-c819-428d-ae09-4835f9872b1a",
   "metadata": {},
   "source": [
    "# Boxplots for Normalized Metrics for Top Sellers"
   ]
  },
  {
   "cell_type": "code",
   "execution_count": 72,
   "id": "78ec80fb-4ea9-4d03-b187-d64134f5254d",
   "metadata": {},
   "outputs": [
    {
     "name": "stderr",
     "output_type": "stream",
     "text": [
      "C:\\Users\\Admin\\AppData\\Local\\Temp\\ipykernel_9836\\2978411463.py:8: FutureWarning: \n",
      "\n",
      "Passing `palette` without assigning `hue` is deprecated and will be removed in v0.14.0. Assign the `x` variable to `hue` and set `legend=False` for the same effect.\n",
      "\n",
      "  sns.boxplot(x='Metric', y='Value', data=melted, palette='Set3')\n"
     ]
    },
    {
     "data": {
      "image/png": "[encoded data removed]",
      "text/plain": [
       "<Figure size 1200x800 with 1 Axes>"
      ]
     },
     "metadata": {},
     "output_type": "display_data"
    }
   ],
   "source": [
    "# Melt the dataframe for easier plotting with seaborn\n",
    "melted = result.melt(id_vars=['score', 'country'], \n",
    "                     value_vars=['product_count', 'positive_percentage', 'rating_count', 'hero_ratings', 'has_contact'], \n",
    "                     var_name='Metric', \n",
    "                     value_name='Value')\n",
    "\n",
    "plt.figure(figsize=(12, 8))\n",
    "sns.boxplot(x='Metric', y='Value', data=melted, palette='Set3')\n",
    "plt.title('Distribution of Normalized Metrics for Top Sellers')\n",
    "plt.xlabel('Metric')\n",
    "plt.ylabel('Normalized Value')\n",
    "plt.show()\n"
   ]
  },
  {
   "cell_type": "code",
   "execution_count": null,
   "id": "9e2237e8-fcef-448c-82b1-6ca7922b2be4",
   "metadata": {},
   "outputs": [],
   "source": []
  }
 ],
 "metadata": {
  "kernelspec": {
   "display_name": "Python [conda env:base] *",
   "language": "python",
   "name": "conda-base-py"
  },
  "language_info": {
   "codemirror_mode": {
    "name": "ipython",
    "version": 3
   },
   "file_extension": ".py",
   "mimetype": "text/x-python",
   "name": "python",
   "nbconvert_exporter": "python",
   "pygments_lexer": "ipython3",
   "version": "3.12.7"
  }
 },
 "nbformat": 4,
 "nbformat_minor": 5
}
